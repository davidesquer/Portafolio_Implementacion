{
 "cells": [
  {
   "cell_type": "markdown",
   "source": [
    "### El objetivo de este codigo es implementar un modelo de regresion logistica multiple sin el uso de ningun framework de machine learning como scikit-learn o tensorflow y sin ninguna libreria estadistica como numpy o scipy."
   ],
   "metadata": {
    "collapsed": false
   },
   "id": "2659173ae041100b"
  },
  {
   "cell_type": "markdown",
   "source": [
    "#### La unica libreria que vamos a utilizar es math para las funciones exponenciales y logaritmicas."
   ],
   "metadata": {
    "collapsed": false
   },
   "id": "4130be4a69dda4e7"
  },
  {
   "cell_type": "code",
   "execution_count": 10,
   "outputs": [],
   "source": [
    "from math import exp, log"
   ],
   "metadata": {
    "collapsed": false,
    "ExecuteTime": {
     "end_time": "2023-08-21T03:50:17.974328400Z",
     "start_time": "2023-08-21T03:50:17.968323100Z"
    }
   },
   "id": "8f8b731693890307"
  },
  {
   "cell_type": "code",
   "execution_count": 14,
   "id": "initial_id",
   "metadata": {
    "collapsed": true,
    "ExecuteTime": {
     "end_time": "2023-08-21T03:52:43.600813200Z",
     "start_time": "2023-08-21T03:52:43.590803300Z"
    }
   },
   "outputs": [],
   "source": [
    "# Implementacion de la funcion sigmoide\n",
    "def sigmoide(z):\n",
    "    return 1.0 / (1.0 + exp(-z))"
   ]
  },
  {
   "cell_type": "code",
   "execution_count": 15,
   "outputs": [],
   "source": [
    "# Implementación de la función de costo\n",
    "def calcular_costo(X, y, theta):\n",
    "    m = len(y)\n",
    "    costo_total = 0\n",
    "    for i in range(m):\n",
    "        xi = X[i]\n",
    "        hi = sigmoide(sum([xi[j] * theta[j] for j in range(len(xi))]))\n",
    "        if y[i] == 1:\n",
    "            costo_total -= log(hi)\n",
    "        else:\n",
    "            costo_total -= log(1 - hi)\n",
    "    return costo_total / m"
   ],
   "metadata": {
    "collapsed": false,
    "ExecuteTime": {
     "end_time": "2023-08-21T03:52:48.258926500Z",
     "start_time": "2023-08-21T03:52:48.254922800Z"
    }
   },
   "id": "1d691e8ecc2577cb"
  },
  {
   "cell_type": "code",
   "execution_count": 16,
   "outputs": [],
   "source": [
    "# Implementación de la función de entrenamiento de regresión logística\n",
    "def entrenar_regresion_logistica(X, y, alpha=0.01, num_iteraciones=1000):\n",
    "    m, n = len(X), len(X[0])\n",
    "    theta = [0.0 for _ in range(n)]\n",
    "\n",
    "    for iteracion in range(num_iteraciones):\n",
    "        gradiente = [0.0 for _ in range(n)]\n",
    "        for i in range(m):\n",
    "            xi = X[i]\n",
    "            diferencia = sigmoide(sum([xi[j] * theta[j] for j in range(n)])) - y[i]\n",
    "            for j in range(n):\n",
    "                gradiente[j] += diferencia * xi[j]\n",
    "        for j in range(n):\n",
    "            theta[j] -= alpha * gradiente[j] / m\n",
    "\n",
    "    return theta"
   ],
   "metadata": {
    "collapsed": false,
    "ExecuteTime": {
     "end_time": "2023-08-21T03:52:55.772926Z",
     "start_time": "2023-08-21T03:52:55.763917Z"
    }
   },
   "id": "2edb4ba3b48383ae"
  },
  {
   "cell_type": "code",
   "execution_count": 17,
   "outputs": [],
   "source": [
    "# Implementación de la función de predicción de regresión logística\n",
    "def predecir(X, theta):\n",
    "    m = len(X)\n",
    "    predicciones = []\n",
    "    for i in range(m):\n",
    "        xi = X[i]\n",
    "        probabilidad = sigmoide(sum([xi[j] * theta[j] for j in range(len(xi))]))\n",
    "        predicciones.append(1 if probabilidad >= 0.5 else 0)\n",
    "    return predicciones"
   ],
   "metadata": {
    "collapsed": false,
    "ExecuteTime": {
     "end_time": "2023-08-21T03:52:56.681898300Z",
     "start_time": "2023-08-21T03:52:56.670888Z"
    }
   },
   "id": "eee6fd4d712dc48c"
  },
  {
   "cell_type": "code",
   "execution_count": 18,
   "outputs": [],
   "source": [
    "# Implementación de la función de evaluación de regresión logística\n",
    "# Esta es una funcion de exactitud, es decir, devuelve el porcentaje de predicciones correctas\n",
    "def evaluar(X, y, theta):\n",
    "    predicciones = predecir(X, theta)\n",
    "    correctas = sum([1 if predicciones[i] == y[i] else 0 for i in range(len(y))])\n",
    "    return correctas / len(y)"
   ],
   "metadata": {
    "collapsed": false,
    "ExecuteTime": {
     "end_time": "2023-08-21T03:53:38.483366800Z",
     "start_time": "2023-08-21T03:53:38.471355400Z"
    }
   },
   "id": "4f89ab29b174c8a9"
  },
  {
   "cell_type": "markdown",
   "source": [
    "#### Ahora vamos a probar nuestro modelo con el dataset de iris.\n",
    "\n",
    "#### En esta parte si utilizaremos otras librerias para el manejo de los datos y la separacion de los mismos"
   ],
   "metadata": {
    "collapsed": false
   },
   "id": "3c94523a20cbcd1"
  },
  {
   "cell_type": "code",
   "execution_count": 48,
   "outputs": [],
   "source": [
    "import pandas as pd\n",
    "from sklearn.model_selection import train_test_split"
   ],
   "metadata": {
    "collapsed": false,
    "ExecuteTime": {
     "end_time": "2023-08-21T04:06:10.028015700Z",
     "start_time": "2023-08-21T04:06:10.012002800Z"
    }
   },
   "id": "1dab13db4e22b01f"
  },
  {
   "cell_type": "code",
   "execution_count": 49,
   "outputs": [],
   "source": [
    "df = pd.read_csv('iris.csv')"
   ],
   "metadata": {
    "collapsed": false,
    "ExecuteTime": {
     "end_time": "2023-08-21T04:06:10.189049800Z",
     "start_time": "2023-08-21T04:06:10.180041900Z"
    }
   },
   "id": "9c48afd316e237e2"
  },
  {
   "cell_type": "code",
   "execution_count": 50,
   "outputs": [],
   "source": [
    "X = df.iloc[:, :-1].values\n",
    "y = df.iloc[:, -1].values\n",
    "\n",
    "X = X.tolist()\n",
    "y = y.tolist()"
   ],
   "metadata": {
    "collapsed": false,
    "ExecuteTime": {
     "end_time": "2023-08-21T04:06:10.349035Z",
     "start_time": "2023-08-21T04:06:10.330017900Z"
    }
   },
   "id": "a9feaa499c3f4d8e"
  },
  {
   "cell_type": "code",
   "execution_count": 51,
   "outputs": [],
   "source": [
    "X_train, X_test, y_train, y_test = train_test_split(X, y, random_state=42, test_size=0.2)"
   ],
   "metadata": {
    "collapsed": false,
    "ExecuteTime": {
     "end_time": "2023-08-21T04:06:10.780427500Z",
     "start_time": "2023-08-21T04:06:10.767415Z"
    }
   },
   "id": "c7ac9739427e4bda"
  },
  {
   "cell_type": "code",
   "execution_count": 52,
   "outputs": [],
   "source": [
    "theta = entrenar_regresion_logistica(X_train, y_train)"
   ],
   "metadata": {
    "collapsed": false,
    "ExecuteTime": {
     "end_time": "2023-08-21T04:06:11.385255Z",
     "start_time": "2023-08-21T04:06:11.336211300Z"
    }
   },
   "id": "6163419639763586"
  },
  {
   "cell_type": "code",
   "execution_count": 58,
   "outputs": [
    {
     "name": "stdout",
     "output_type": "stream",
     "text": [
      "Predicciones: [0, 0, 0, 1, 1, 1, 1, 0, 1, 1, 1, 1, 0, 1, 0, 1, 0, 0, 1, 1]\n"
     ]
    }
   ],
   "source": [
    "# Muestra de la funcion de prediccion\n",
    "print('Predicciones:', predecir(X_test, theta))"
   ],
   "metadata": {
    "collapsed": false,
    "ExecuteTime": {
     "end_time": "2023-08-21T04:08:16.613216400Z",
     "start_time": "2023-08-21T04:08:16.598202700Z"
    }
   },
   "id": "2fdbc35704298f36"
  },
  {
   "cell_type": "code",
   "execution_count": 59,
   "outputs": [
    {
     "name": "stdout",
     "output_type": "stream",
     "text": [
      "Exactitud en el conjunto de prueba: 1.0\n"
     ]
    }
   ],
   "source": [
    "# Prueba del modelo\n",
    "print('Exactitud en el conjunto de prueba:', evaluar(X_test, y_test, theta))"
   ],
   "metadata": {
    "collapsed": false,
    "ExecuteTime": {
     "end_time": "2023-08-21T04:08:20.854159200Z",
     "start_time": "2023-08-21T04:08:20.849154700Z"
    }
   },
   "id": "586b527b20451f54"
  },
  {
   "cell_type": "code",
   "execution_count": 60,
   "outputs": [
    {
     "name": "stdout",
     "output_type": "stream",
     "text": [
      "Coeficientes: [0.2956379287569924, 1.056654435155741, -1.6021840789946256, -0.6961751563500629]\n"
     ]
    }
   ],
   "source": [
    "# Muestra de los coeficientes\n",
    "print('Coeficientes:', theta)"
   ],
   "metadata": {
    "collapsed": false,
    "ExecuteTime": {
     "end_time": "2023-08-21T04:08:21.930026Z",
     "start_time": "2023-08-21T04:08:21.912009800Z"
    }
   },
   "id": "2982c013127325ea"
  },
  {
   "cell_type": "markdown",
   "source": [
    "#### Este dataset tiene 2 clases muy bien marcadas que nos permiten obtener una exactitud del 100% en el conjunto de prueba."
   ],
   "metadata": {
    "collapsed": false
   },
   "id": "91d78f330419ae47"
  }
 ],
 "metadata": {
  "kernelspec": {
   "display_name": "Python 3",
   "language": "python",
   "name": "python3"
  },
  "language_info": {
   "codemirror_mode": {
    "name": "ipython",
    "version": 2
   },
   "file_extension": ".py",
   "mimetype": "text/x-python",
   "name": "python",
   "nbconvert_exporter": "python",
   "pygments_lexer": "ipython2",
   "version": "2.7.6"
  }
 },
 "nbformat": 4,
 "nbformat_minor": 5
}
