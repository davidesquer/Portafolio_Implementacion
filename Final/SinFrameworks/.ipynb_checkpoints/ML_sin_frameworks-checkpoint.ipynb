{
 "cells": [
  {
   "cell_type": "markdown",
   "id": "d7466da5e94825a8",
   "metadata": {},
   "source": [
    "# Implementacion de regresion logistica para clasificacion multiclase sin librerias de machine learning"
   ]
  },
  {
   "cell_type": "markdown",
   "id": "baa946bf3d3ff1cc",
   "metadata": {},
   "source": [
    "El objetivo de este proyecto es hacer una implementacion del modelo de regresion logistica para clasificacion multiclase. y con el modelo desarrollado poder hacer uso sobre los datos de iris. Todo esto sin hacer uso de librerias de machine learning."
   ]
  },
  {
   "cell_type": "markdown",
   "id": "cfe1fad9ecd5e25",
   "metadata": {},
   "source": [
    "El problema que estamos intentando resolver es de clasificacion esto consiste en dado un conjunto de datos con caracteristicas y etiquetas, encontrar una funcion que pueda predecir la etiqueta de una nueva muestra. En este caso el problema es de clasificacion multiclase, esto quiere decir que las etiquetas pueden tomar mas de dos valores."
   ]
  },
  {
   "cell_type": "code",
   "execution_count": 26,
   "id": "1dab13db4e22b01f",
   "metadata": {
    "ExecuteTime": {
     "end_time": "2023-09-10T04:30:51.991860500Z",
     "start_time": "2023-09-10T04:30:51.982852Z"
    }
   },
   "outputs": [],
   "source": [
    "# Librerias de manejo de datos\n",
    "import pandas as pd\n",
    "import numpy as np\n",
    "from sklearn.model_selection import train_test_split\n",
    "\n",
    "# Funciones propias con la implementacion del modelo\n",
    "from funciones import predecir_ovr, entrenar_ovr, evaluar"
   ]
  },
  {
   "cell_type": "markdown",
   "id": "b63f1bb2ad9fe930",
   "metadata": {},
   "source": [
    "Los datos que estamos utilizando son los datos de iris, estos datos son muy conocidos en el area de machine learning y son utilizados para hacer pruebas de modelos de clasificacion. Los datos consisten en 150 muestras de flores de iris, cada muestra tiene 4 caracteristicas y una etiqueta que indica a que clase pertenece la muestra. Las clases son 3: Iris-setosa, Iris-versicolor, Iris-virginica.\n",
    "\n",
    "Fuente: https://www.kaggle.com/datasets/uciml/iris"
   ]
  },
  {
   "cell_type": "code",
   "execution_count": 27,
   "id": "daf6e8afcee3fa37",
   "metadata": {
    "ExecuteTime": {
     "end_time": "2023-09-10T04:30:52.935337900Z",
     "start_time": "2023-09-10T04:30:52.920324300Z"
    }
   },
   "outputs": [
    {
     "data": {
      "text/html": [
       "<div>\n",
       "<style scoped>\n",
       "    .dataframe tbody tr th:only-of-type {\n",
       "        vertical-align: middle;\n",
       "    }\n",
       "\n",
       "    .dataframe tbody tr th {\n",
       "        vertical-align: top;\n",
       "    }\n",
       "\n",
       "    .dataframe thead th {\n",
       "        text-align: right;\n",
       "    }\n",
       "</style>\n",
       "<table border=\"1\" class=\"dataframe\">\n",
       "  <thead>\n",
       "    <tr style=\"text-align: right;\">\n",
       "      <th></th>\n",
       "      <th>Id</th>\n",
       "      <th>SepalLengthCm</th>\n",
       "      <th>SepalWidthCm</th>\n",
       "      <th>PetalLengthCm</th>\n",
       "      <th>PetalWidthCm</th>\n",
       "      <th>Species</th>\n",
       "    </tr>\n",
       "  </thead>\n",
       "  <tbody>\n",
       "    <tr>\n",
       "      <th>0</th>\n",
       "      <td>1</td>\n",
       "      <td>5.1</td>\n",
       "      <td>3.5</td>\n",
       "      <td>1.4</td>\n",
       "      <td>0.2</td>\n",
       "      <td>Iris-setosa</td>\n",
       "    </tr>\n",
       "    <tr>\n",
       "      <th>1</th>\n",
       "      <td>2</td>\n",
       "      <td>4.9</td>\n",
       "      <td>3.0</td>\n",
       "      <td>1.4</td>\n",
       "      <td>0.2</td>\n",
       "      <td>Iris-setosa</td>\n",
       "    </tr>\n",
       "    <tr>\n",
       "      <th>2</th>\n",
       "      <td>3</td>\n",
       "      <td>4.7</td>\n",
       "      <td>3.2</td>\n",
       "      <td>1.3</td>\n",
       "      <td>0.2</td>\n",
       "      <td>Iris-setosa</td>\n",
       "    </tr>\n",
       "    <tr>\n",
       "      <th>3</th>\n",
       "      <td>4</td>\n",
       "      <td>4.6</td>\n",
       "      <td>3.1</td>\n",
       "      <td>1.5</td>\n",
       "      <td>0.2</td>\n",
       "      <td>Iris-setosa</td>\n",
       "    </tr>\n",
       "    <tr>\n",
       "      <th>4</th>\n",
       "      <td>5</td>\n",
       "      <td>5.0</td>\n",
       "      <td>3.6</td>\n",
       "      <td>1.4</td>\n",
       "      <td>0.2</td>\n",
       "      <td>Iris-setosa</td>\n",
       "    </tr>\n",
       "  </tbody>\n",
       "</table>\n",
       "</div>"
      ],
      "text/plain": [
       "   Id  SepalLengthCm  SepalWidthCm  PetalLengthCm  PetalWidthCm      Species\n",
       "0   1            5.1           3.5            1.4           0.2  Iris-setosa\n",
       "1   2            4.9           3.0            1.4           0.2  Iris-setosa\n",
       "2   3            4.7           3.2            1.3           0.2  Iris-setosa\n",
       "3   4            4.6           3.1            1.5           0.2  Iris-setosa\n",
       "4   5            5.0           3.6            1.4           0.2  Iris-setosa"
      ]
     },
     "execution_count": 27,
     "metadata": {},
     "output_type": "execute_result"
    }
   ],
   "source": [
    "# Se carga el dataset original\n",
    "df = pd.read_csv('iris.csv')\n",
    "\n",
    "df.head()"
   ]
  },
  {
   "cell_type": "code",
   "execution_count": 28,
   "id": "d1b981cd5c8ba68",
   "metadata": {
    "ExecuteTime": {
     "end_time": "2023-09-10T04:30:53.429437100Z",
     "start_time": "2023-09-10T04:30:53.421429Z"
    }
   },
   "outputs": [],
   "source": [
    "# Se elimina el id ya que no se va a utilizar\n",
    "df = df.drop(['Id'], axis=1)\n",
    "\n",
    "# Se cambian los nombres de las clases para convertir variable categoricas a numericas\n",
    "df['Species'] = df['Species'].map({'Iris-setosa': 0, 'Iris-versicolor': 1, 'Iris-virginica': 2})"
   ]
  },
  {
   "cell_type": "code",
   "execution_count": 29,
   "id": "9c48afd316e237e2",
   "metadata": {
    "ExecuteTime": {
     "end_time": "2023-09-10T04:30:53.998420400Z",
     "start_time": "2023-09-10T04:30:53.989412300Z"
    }
   },
   "outputs": [],
   "source": [
    "# Se separan los datos de las etiquetas\n",
    "X = df.iloc[:, :-1].values\n",
    "y = df.iloc[:, -1].values\n",
    "\n",
    "# Se convierten los datos a numpy arrays\n",
    "X = np.array(X)\n",
    "y = np.array(y)\n",
    "\n",
    "# Se agrega una columna de unos para el termino independiente, esto forma parte de la implementacion del modelo\n",
    "X = np.hstack([np.ones((X.shape[0], 1)), X])"
   ]
  },
  {
   "cell_type": "code",
   "execution_count": 30,
   "id": "c7ac9739427e4bda",
   "metadata": {
    "ExecuteTime": {
     "end_time": "2023-09-10T04:30:54.341179800Z",
     "start_time": "2023-09-10T04:30:54.334173400Z"
    }
   },
   "outputs": [],
   "source": [
    "# Se separan los datos en entrenamiento y prueba\n",
    "X_train, X_test, y_train, y_test = train_test_split(X, y, random_state=42, test_size=0.2)"
   ]
  },
  {
   "cell_type": "code",
   "execution_count": 31,
   "id": "1df3fc098bea9ee",
   "metadata": {
    "ExecuteTime": {
     "end_time": "2023-09-10T04:30:54.691363800Z",
     "start_time": "2023-09-10T04:30:54.644325600Z"
    }
   },
   "outputs": [],
   "source": [
    "# Se entrenar un clasificador para cada clase\n",
    "thetas = []\n",
    "clases = np.unique(y)\n",
    "for clase in clases:\n",
    "    theta = entrenar_ovr(X_train, y_train, clase, 0.01, 1000)\n",
    "    thetas.append(theta)"
   ]
  },
  {
   "cell_type": "code",
   "execution_count": 32,
   "id": "6f81f4766d5b85b7",
   "metadata": {
    "ExecuteTime": {
     "end_time": "2023-09-10T04:30:55.112606200Z",
     "start_time": "2023-09-10T04:30:55.097592700Z"
    }
   },
   "outputs": [],
   "source": [
    "# Se hacen las predicciones\n",
    "predicciones = predecir_ovr(X_test, thetas)\n",
    "\n",
    "predicciones = pd.DataFrame(predicciones, columns=['prediccion'])\n",
    "\n",
    "pred_test = predicciones.merge(pd.DataFrame(y_test, columns=['test']), left_index=True, right_index=True)"
   ]
  },
  {
   "cell_type": "markdown",
   "id": "bed0e0f9bb354872",
   "metadata": {},
   "source": [
    "En la siguiente tabla se muestran las predicciones del modelo y las etiquetas reales de las muestras.\n",
    "\n",
    "Podemos observar que en estos 5 ejemplos el modelo predijo correctamente la etiqueta de 4 muestras y fallo en una."
   ]
  },
  {
   "cell_type": "code",
   "execution_count": 33,
   "id": "6374c16a2f2589f",
   "metadata": {
    "ExecuteTime": {
     "end_time": "2023-09-10T04:30:56.020200Z",
     "start_time": "2023-09-10T04:30:56.001699400Z"
    }
   },
   "outputs": [
    {
     "data": {
      "text/html": [
       "<div>\n",
       "<style scoped>\n",
       "    .dataframe tbody tr th:only-of-type {\n",
       "        vertical-align: middle;\n",
       "    }\n",
       "\n",
       "    .dataframe tbody tr th {\n",
       "        vertical-align: top;\n",
       "    }\n",
       "\n",
       "    .dataframe thead th {\n",
       "        text-align: right;\n",
       "    }\n",
       "</style>\n",
       "<table border=\"1\" class=\"dataframe\">\n",
       "  <thead>\n",
       "    <tr style=\"text-align: right;\">\n",
       "      <th></th>\n",
       "      <th>prediccion</th>\n",
       "      <th>test</th>\n",
       "    </tr>\n",
       "  </thead>\n",
       "  <tbody>\n",
       "    <tr>\n",
       "      <th>0</th>\n",
       "      <td>1</td>\n",
       "      <td>1</td>\n",
       "    </tr>\n",
       "    <tr>\n",
       "      <th>1</th>\n",
       "      <td>0</td>\n",
       "      <td>0</td>\n",
       "    </tr>\n",
       "    <tr>\n",
       "      <th>2</th>\n",
       "      <td>2</td>\n",
       "      <td>2</td>\n",
       "    </tr>\n",
       "    <tr>\n",
       "      <th>3</th>\n",
       "      <td>2</td>\n",
       "      <td>1</td>\n",
       "    </tr>\n",
       "    <tr>\n",
       "      <th>4</th>\n",
       "      <td>1</td>\n",
       "      <td>1</td>\n",
       "    </tr>\n",
       "  </tbody>\n",
       "</table>\n",
       "</div>"
      ],
      "text/plain": [
       "   prediccion  test\n",
       "0           1     1\n",
       "1           0     0\n",
       "2           2     2\n",
       "3           2     1\n",
       "4           1     1"
      ]
     },
     "execution_count": 33,
     "metadata": {},
     "output_type": "execute_result"
    }
   ],
   "source": [
    "pred_test.head()"
   ]
  },
  {
   "cell_type": "markdown",
   "id": "89206fd4ecf9d01c",
   "metadata": {},
   "source": [
    "Para nuestra implementacion solo desarrollamos la metrica de exactitud, esta metrica consiste en el porcentaje de muestras que fueron clasificadas correctamente. Para calcular la exactitud se compara la prediccion con la etiqueta real y se calcula el porcentaje de muestras que coinciden."
   ]
  },
  {
   "cell_type": "code",
   "execution_count": 34,
   "id": "963247bb63210522",
   "metadata": {
    "ExecuteTime": {
     "end_time": "2023-09-10T04:30:58.270710500Z",
     "start_time": "2023-09-10T04:30:58.261702400Z"
    }
   },
   "outputs": [
    {
     "name": "stdout",
     "output_type": "stream",
     "text": [
      "Exactitud:  0.8666666666666667\n"
     ]
    }
   ],
   "source": [
    "# exactitud sobre datos de prueba\n",
    "exactitud = evaluar(X_test, y_test, thetas)\n",
    "\n",
    "print('Exactitud: ', exactitud)"
   ]
  },
  {
   "cell_type": "markdown",
   "id": "3d6f3e9c1a9d615c",
   "metadata": {},
   "source": [
    "En nuestro conjunto de datos de prueba el modelo tiene una exactitud de 86.6%, esto quiere decir que el modelo clasifico correctamente el 86.6% de las muestras."
   ]
  },
  {
   "cell_type": "code",
   "execution_count": 35,
   "id": "e18a85b51048faab",
   "metadata": {
    "ExecuteTime": {
     "end_time": "2023-09-10T04:30:59.871710700Z",
     "start_time": "2023-09-10T04:30:59.861702200Z"
    }
   },
   "outputs": [
    {
     "name": "stdout",
     "output_type": "stream",
     "text": [
      "Exactitud:  0.9083333333333333\n"
     ]
    }
   ],
   "source": [
    "# exactitud sobre datos de entrenamiento\n",
    "exactitud = evaluar(X_train, y_train, thetas)\n",
    "\n",
    "print('Exactitud: ', exactitud)"
   ]
  },
  {
   "cell_type": "markdown",
   "id": "bc78254d9e86037c",
   "metadata": {},
   "source": [
    "En nuestro conjunto de datos de entrenamiento el modelo tiene una exactitud de 90.8%, esto quiere decir que el modelo clasifico correctamente el 90.8% de las muestras."
   ]
  },
  {
   "cell_type": "markdown",
   "id": "b49fa68dfbdf2c69",
   "metadata": {},
   "source": [
    "Como podemos ver el modelo tiene una exactitud ligeramente mejor sobre los datos de entrenamiento que sobre los datos de prueba, esto es un indicador de que el modelo no esta sobreajustando los datos de entrenamiento."
   ]
  }
 ],
 "metadata": {
  "kernelspec": {
   "display_name": "Python 3 (ipykernel)",
   "language": "python",
   "name": "python3"
  },
  "language_info": {
   "codemirror_mode": {
    "name": "ipython",
    "version": 3
   },
   "file_extension": ".py",
   "mimetype": "text/x-python",
   "name": "python",
   "nbconvert_exporter": "python",
   "pygments_lexer": "ipython3",
   "version": "3.9.12"
  }
 },
 "nbformat": 4,
 "nbformat_minor": 5
}
