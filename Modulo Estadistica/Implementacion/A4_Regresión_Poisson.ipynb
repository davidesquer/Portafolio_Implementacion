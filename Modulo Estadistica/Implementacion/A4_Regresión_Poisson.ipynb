{
 "cells": [
  {
   "cell_type": "code",
   "execution_count": 1,
   "metadata": {},
   "outputs": [],
   "source": [
    "import pandas as pd\n",
    "import statsmodels.api as sm\n",
    "import statsmodels.formula.api as smf"
   ]
  },
  {
   "cell_type": "code",
   "execution_count": 2,
   "metadata": {},
   "outputs": [],
   "source": [
    "df = pd.read_csv('warpbreaks.csv', index_col=0)"
   ]
  },
  {
   "cell_type": "code",
   "execution_count": 3,
   "metadata": {},
   "outputs": [
    {
     "data": {
      "text/html": [
       "<div>\n",
       "<style scoped>\n",
       "    .dataframe tbody tr th:only-of-type {\n",
       "        vertical-align: middle;\n",
       "    }\n",
       "\n",
       "    .dataframe tbody tr th {\n",
       "        vertical-align: top;\n",
       "    }\n",
       "\n",
       "    .dataframe thead th {\n",
       "        text-align: right;\n",
       "    }\n",
       "</style>\n",
       "<table border=\"1\" class=\"dataframe\">\n",
       "  <thead>\n",
       "    <tr style=\"text-align: right;\">\n",
       "      <th></th>\n",
       "      <th>breaks</th>\n",
       "      <th>wool</th>\n",
       "      <th>tension</th>\n",
       "    </tr>\n",
       "    <tr>\n",
       "      <th>rownames</th>\n",
       "      <th></th>\n",
       "      <th></th>\n",
       "      <th></th>\n",
       "    </tr>\n",
       "  </thead>\n",
       "  <tbody>\n",
       "    <tr>\n",
       "      <th>1</th>\n",
       "      <td>26</td>\n",
       "      <td>A</td>\n",
       "      <td>L</td>\n",
       "    </tr>\n",
       "    <tr>\n",
       "      <th>2</th>\n",
       "      <td>30</td>\n",
       "      <td>A</td>\n",
       "      <td>L</td>\n",
       "    </tr>\n",
       "    <tr>\n",
       "      <th>3</th>\n",
       "      <td>54</td>\n",
       "      <td>A</td>\n",
       "      <td>L</td>\n",
       "    </tr>\n",
       "    <tr>\n",
       "      <th>4</th>\n",
       "      <td>25</td>\n",
       "      <td>A</td>\n",
       "      <td>L</td>\n",
       "    </tr>\n",
       "    <tr>\n",
       "      <th>5</th>\n",
       "      <td>70</td>\n",
       "      <td>A</td>\n",
       "      <td>L</td>\n",
       "    </tr>\n",
       "  </tbody>\n",
       "</table>\n",
       "</div>"
      ],
      "text/plain": [
       "          breaks wool tension\n",
       "rownames                     \n",
       "1             26    A       L\n",
       "2             30    A       L\n",
       "3             54    A       L\n",
       "4             25    A       L\n",
       "5             70    A       L"
      ]
     },
     "execution_count": 3,
     "metadata": {},
     "output_type": "execute_result"
    }
   ],
   "source": [
    "df.head()"
   ]
  },
  {
   "cell_type": "code",
   "execution_count": 4,
   "metadata": {},
   "outputs": [
    {
     "data": {
      "text/plain": [
       "<Axes: >"
      ]
     },
     "execution_count": 4,
     "metadata": {},
     "output_type": "execute_result"
    },
    {
     "data": {
      "image/png": "[encoded data removed]",
      "text/plain": [
       "<Figure size 640x480 with 1 Axes>"
      ]
     },
     "metadata": {},
     "output_type": "display_data"
    }
   ],
   "source": [
    "df.breaks.hist()"
   ]
  },
  {
   "cell_type": "code",
   "execution_count": 5,
   "metadata": {},
   "outputs": [
    {
     "name": "stdout",
     "output_type": "stream",
     "text": [
      "La media es 28.14814814814815 y la varianza es 174.20405310971347\n"
     ]
    }
   ],
   "source": [
    "media = df.breaks.mean()\n",
    "varianza = df.breaks.var()\n",
    "\n",
    "print(f'La media es {media} y la varianza es {varianza}')"
   ]
  },
  {
   "cell_type": "code",
   "execution_count": 6,
   "metadata": {},
   "outputs": [
    {
     "name": "stdout",
     "output_type": "stream",
     "text": [
      "                 Generalized Linear Model Regression Results                  \n",
      "==============================================================================\n",
      "Dep. Variable:                 breaks   No. Observations:                   54\n",
      "Model:                            GLM   Df Residuals:                       50\n",
      "Model Family:                 Poisson   Df Model:                            3\n",
      "Link Function:                    log   Scale:                          1.0000\n",
      "Method:                          IRLS   Log-Likelihood:                -242.53\n",
      "Date:                Fri, 13 Oct 2023   Deviance:                       210.39\n",
      "Time:                        18:28:54   Pearson chi2:                     213.\n",
      "No. Iterations:                     4   Pseudo R-squ. (CS):             0.8003\n",
      "Covariance Type:            nonrobust                                         \n",
      "================================================================================\n",
      "                   coef    std err          z      P>|z|      [0.025      0.975]\n",
      "--------------------------------------------------------------------------------\n",
      "Intercept        3.1735      0.056     57.002      0.000       3.064       3.283\n",
      "wool[T.B]       -0.2060      0.052     -3.994      0.000      -0.307      -0.105\n",
      "tension[T.L]     0.5185      0.064      8.107      0.000       0.393       0.644\n",
      "tension[T.M]     0.1972      0.068      2.885      0.004       0.063       0.331\n",
      "================================================================================\n"
     ]
    },
    {
     "name": "stderr",
     "output_type": "stream",
     "text": [
      "E:\\anaconda3\\lib\\site-packages\\statsmodels\\genmod\\families\\links.py:13: FutureWarning: The log link alias is deprecated. Use Log instead. The log link alias will be removed after the 0.15.0 release.\n",
      "  warnings.warn(\n"
     ]
    }
   ],
   "source": [
    "variables = \"breaks ~ wool + tension\"\n",
    "modelo_poisson = smf.glm(formula=variables, data=df, family=sm.families.Poisson(link=sm.families.links.log())).fit()\n",
    "\n",
    "print(modelo_poisson.summary())"
   ]
  },
  {
   "cell_type": "markdown",
   "metadata": {},
   "source": [
    "# Interpretación de Resultados del Modelo Poisson\n",
    "\n",
    "En el análisis llevado a cabo, se ajustó un modelo de regresión Poisson para predecir la variable breaks en función de las variables wool y tension. A continuación, se destacan las principales observaciones basadas en los resultados obtenidos:\n",
    "\n",
    "- Tratamiento de Variables Categóricas: El paquete statsmodel de python, emplea el método de variables Dummy para manejar variables categóricas igual que R. En este contexto, se generó una variable Dummy para wool (explicando el tipo B) y dos para tension (para los niveles L y M). En ambas varaibles hay una categoria que no esta representada por una variable dummy esta actua como la categoria de referencia.\n",
    "\n",
    "- Desviación Residual y Grados de Libertad: La desviación residual del modelo es 210.39, mientras que los grados de libertad residuales son 50. Dado que la desviación residual es superior a los grados de libertad, esto sugiere que el modelo captura adecuadamente la variabilidad en los datos. Sin embargo, es importante tener en cuenta que si la desviación residual hubiera sido significativamente mayor que los grados de libertad, esto podría haber indicado dispersión excesiva, lo que nos habría llevado a reconsiderar el ajuste del modelo.\n",
    "\n",
    "- Comparación con el Modelo Nulo: Al comparar la desviación de nuestro modelo con un modelo nulo (que solo incluye el intercepto), buscamos entender el valor añadido de nuestras variables predictoras. Aunque no se presentó directamente un valor de desviación para el modelo nulo en los resultados, la significativa reducción en la desviación residual con la inclusión de las variables wool y tension sugiere que estas variables están mejorando el ajuste del modelo y contribuyendo de manera significativa a explicar la variabilidad en breaks.\n",
    "\n",
    "En base a estos resultados, podemos concluir que las variables wool y tension tienen un impacto significativo en la variable respuesta breaks."
   ]
  }
 ],
 "metadata": {
  "kernelspec": {
   "display_name": "Python 3 (ipykernel)",
   "language": "python",
   "name": "python3"
  },
  "language_info": {
   "codemirror_mode": {
    "name": "ipython",
    "version": 3
   },
   "file_extension": ".py",
   "mimetype": "text/x-python",
   "name": "python",
   "nbconvert_exporter": "python",
   "pygments_lexer": "ipython3",
   "version": "3.10.9"
  }
 },
 "nbformat": 4,
 "nbformat_minor": 2
}
