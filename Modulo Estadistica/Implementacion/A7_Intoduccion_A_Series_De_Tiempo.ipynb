{
 "cells": [
  {
   "cell_type": "markdown",
   "metadata": {},
   "source": [
    "## David Esquer Ramos - A01114940"
   ]
  },
  {
   "cell_type": "markdown",
   "metadata": {},
   "source": [
    "# Problema 1"
   ]
  },
  {
   "cell_type": "code",
   "execution_count": 1,
   "metadata": {},
   "outputs": [
    {
     "data": {
      "text/plain": [
       "(0       NaN\n",
       " 1       NaN\n",
       " 2       NaN\n",
       " 3     20.00\n",
       " 4     20.25\n",
       " 5     19.00\n",
       " 6     19.25\n",
       " 7     18.00\n",
       " 8     19.00\n",
       " 9     20.00\n",
       " 10    18.75\n",
       " 11    19.75\n",
       " dtype: float64,\n",
       " 5.75,\n",
       " 19.75)"
      ]
     },
     "execution_count": 1,
     "metadata": {},
     "output_type": "execute_result"
    }
   ],
   "source": [
    "import pandas as pd\n",
    "import numpy as np\n",
    "\n",
    "ventas_gasolina = [17, 21, 19, 23, 18, 16, 20, 18, 22, 20, 15, 22]\n",
    "\n",
    "ventas = pd.Series(ventas_gasolina)\n",
    "\n",
    "promedios_moviles = ventas.rolling(window=4).mean()\n",
    "\n",
    "errores = ventas[3:] - promedios_moviles[3:]\n",
    "cme_promedios_moviles = (errores**2).mean()\n",
    "\n",
    "pronostico_semana_13_promedios_moviles = promedios_moviles.iloc[-1]\n",
    "\n",
    "promedios_moviles, cme_promedios_moviles, pronostico_semana_13_promedios_moviles\n"
   ]
  },
  {
   "cell_type": "code",
   "execution_count": 2,
   "metadata": {},
   "outputs": [
    {
     "data": {
      "text/plain": [
       "(0      NaN\n",
       " 1      NaN\n",
       " 2      NaN\n",
       " 3     6.64\n",
       " 4     6.01\n",
       " 5     6.62\n",
       " 6     7.03\n",
       " 7     4.48\n",
       " 8     6.00\n",
       " 9     4.52\n",
       " 10    6.47\n",
       " 11    7.99\n",
       " dtype: float64,\n",
       " 179.45297777777776,\n",
       " 7.99)"
      ]
     },
     "execution_count": 2,
     "metadata": {},
     "output_type": "execute_result"
    }
   ],
   "source": [
    "media_ventas = ventas.mean()\n",
    "\n",
    "desviacion_absoluta = abs(ventas - media_ventas)\n",
    "\n",
    "pesos = desviacion_absoluta / desviacion_absoluta.sum()\n",
    "\n",
    "promedios_moviles_ponderados = (ventas * pesos).rolling(window=4).sum()\n",
    "\n",
    "errores_ponderados = ventas[3:] - promedios_moviles_ponderados[3:]\n",
    "cme_promedios_moviles_ponderados = (errores_ponderados**2).mean()\n",
    "\n",
    "pronostico_semana_13_promedios_moviles_ponderados = promedios_moviles_ponderados.iloc[-1]\n",
    "\n",
    "promedios_moviles_ponderados, cme_promedios_moviles_ponderados, pronostico_semana_13_promedios_moviles_ponderados\n"
   ]
  },
  {
   "cell_type": "code",
   "execution_count": 3,
   "metadata": {},
   "outputs": [
    {
     "data": {
      "text/plain": [
       "(1.0, 0.0, 22.0)"
      ]
     },
     "execution_count": 3,
     "metadata": {},
     "output_type": "execute_result"
    }
   ],
   "source": [
    "from sklearn.metrics import mean_squared_error\n",
    "\n",
    "def suavizamiento_exponencial(serie, alpha):\n",
    "    resultado = [serie[0]]\n",
    "    for n in range(1, len(serie)):\n",
    "        resultado.append(alpha * serie[n] + (1 - alpha) * resultado[n-1])\n",
    "    return pd.Series(resultado)\n",
    "\n",
    "alphas = np.linspace(0, 1, 11)\n",
    "cme_valores = []\n",
    "\n",
    "for alpha in alphas:\n",
    "    pronosticos = suavizamiento_exponencial(ventas, alpha)\n",
    "    cme = mean_squared_error(ventas, pronosticos)\n",
    "    cme_valores.append(cme)\n",
    "\n",
    "mejor_alpha_index = np.argmin(cme_valores)\n",
    "mejor_alpha = alphas[mejor_alpha_index]\n",
    "mejor_cme = cme_valores[mejor_alpha_index]\n",
    "\n",
    "pronostico_semana_13_exponencial = suavizamiento_exponencial(ventas, mejor_alpha).iloc[-1]\n",
    "\n",
    "mejor_alpha, mejor_cme, pronostico_semana_13_exponencial\n"
   ]
  },
  {
   "cell_type": "code",
   "execution_count": 4,
   "metadata": {},
   "outputs": [
    {
     "data": {
      "text/plain": [
       "({'Promedios Móviles': 5.75,\n",
       "  'Promedios Móviles Ponderados': 179.45297777777776,\n",
       "  'Suavizamiento Exponencial': 0.0},\n",
       " 'Suavizamiento Exponencial')"
      ]
     },
     "execution_count": 4,
     "metadata": {},
     "output_type": "execute_result"
    }
   ],
   "source": [
    "cme_comparacion = {\n",
    "    \"Promedios Móviles\": cme_promedios_moviles,\n",
    "    \"Promedios Móviles Ponderados\": cme_promedios_moviles_ponderados,\n",
    "    \"Suavizamiento Exponencial\": mejor_cme\n",
    "}\n",
    "\n",
    "mejor_metodo = min(cme_comparacion, key=cme_comparacion.get)\n",
    "\n",
    "cme_comparacion, mejor_metodo\n"
   ]
  },
  {
   "cell_type": "markdown",
   "metadata": {},
   "source": [
    "La comparación de los Errores Cuadráticos Medios (CME) de los tres métodos es la siguiente:\n",
    "\n",
    "Promedios Móviles: CME = 5.75\n",
    "Promedios Móviles Ponderados: CME = 179.45\n",
    "Suavizamiento Exponencial: CME = 0.0\n",
    "\n",
    "El método de Suavizamiento Exponencial con α = 1.0 ha resultado en el menor CME, indicando que es el mejor modelo entre los tres evaluados para esta serie de tiempo particular. Sin embargo, es importante tener en cuenta que un valor de α igual a 1 significa que el modelo está poniendo todo el peso en la observación más reciente, lo que podría no ser ideal si la serie de tiempo tiene alguna variabilidad o ruido."
   ]
  },
  {
   "cell_type": "markdown",
   "metadata": {},
   "source": [
    "# Problema 2"
   ]
  },
  {
   "cell_type": "code",
   "execution_count": 5,
   "metadata": {},
   "outputs": [
    {
     "data": {
      "text/html": [
       "<div>\n",
       "<style scoped>\n",
       "    .dataframe tbody tr th:only-of-type {\n",
       "        vertical-align: middle;\n",
       "    }\n",
       "\n",
       "    .dataframe tbody tr th {\n",
       "        vertical-align: top;\n",
       "    }\n",
       "\n",
       "    .dataframe thead th {\n",
       "        text-align: right;\n",
       "    }\n",
       "</style>\n",
       "<table border=\"1\" class=\"dataframe\">\n",
       "  <thead>\n",
       "    <tr style=\"text-align: right;\">\n",
       "      <th></th>\n",
       "      <th>Dia</th>\n",
       "      <th>Precio</th>\n",
       "    </tr>\n",
       "  </thead>\n",
       "  <tbody>\n",
       "    <tr>\n",
       "      <th>0</th>\n",
       "      <td>2022-08-24</td>\n",
       "      <td>81.32</td>\n",
       "    </tr>\n",
       "    <tr>\n",
       "      <th>1</th>\n",
       "      <td>2022-08-25</td>\n",
       "      <td>81.10</td>\n",
       "    </tr>\n",
       "    <tr>\n",
       "      <th>2</th>\n",
       "      <td>2022-08-26</td>\n",
       "      <td>80.38</td>\n",
       "    </tr>\n",
       "    <tr>\n",
       "      <th>3</th>\n",
       "      <td>2022-08-29</td>\n",
       "      <td>81.34</td>\n",
       "    </tr>\n",
       "    <tr>\n",
       "      <th>4</th>\n",
       "      <td>2022-08-30</td>\n",
       "      <td>80.54</td>\n",
       "    </tr>\n",
       "    <tr>\n",
       "      <th>5</th>\n",
       "      <td>2022-08-31</td>\n",
       "      <td>80.62</td>\n",
       "    </tr>\n",
       "    <tr>\n",
       "      <th>6</th>\n",
       "      <td>2022-09-01</td>\n",
       "      <td>79.54</td>\n",
       "    </tr>\n",
       "    <tr>\n",
       "      <th>7</th>\n",
       "      <td>2022-09-02</td>\n",
       "      <td>79.46</td>\n",
       "    </tr>\n",
       "    <tr>\n",
       "      <th>8</th>\n",
       "      <td>2022-09-06</td>\n",
       "      <td>81.02</td>\n",
       "    </tr>\n",
       "    <tr>\n",
       "      <th>9</th>\n",
       "      <td>2022-09-07</td>\n",
       "      <td>80.98</td>\n",
       "    </tr>\n",
       "    <tr>\n",
       "      <th>10</th>\n",
       "      <td>2022-09-08</td>\n",
       "      <td>80.80</td>\n",
       "    </tr>\n",
       "    <tr>\n",
       "      <th>11</th>\n",
       "      <td>2022-09-09</td>\n",
       "      <td>81.44</td>\n",
       "    </tr>\n",
       "    <tr>\n",
       "      <th>12</th>\n",
       "      <td>2022-09-12</td>\n",
       "      <td>81.48</td>\n",
       "    </tr>\n",
       "    <tr>\n",
       "      <th>13</th>\n",
       "      <td>2022-09-13</td>\n",
       "      <td>80.75</td>\n",
       "    </tr>\n",
       "    <tr>\n",
       "      <th>14</th>\n",
       "      <td>2022-09-14</td>\n",
       "      <td>80.48</td>\n",
       "    </tr>\n",
       "    <tr>\n",
       "      <th>15</th>\n",
       "      <td>2022-09-15</td>\n",
       "      <td>80.01</td>\n",
       "    </tr>\n",
       "    <tr>\n",
       "      <th>16</th>\n",
       "      <td>2022-09-16</td>\n",
       "      <td>80.33</td>\n",
       "    </tr>\n",
       "  </tbody>\n",
       "</table>\n",
       "</div>"
      ],
      "text/plain": [
       "          Dia  Precio\n",
       "0  2022-08-24   81.32\n",
       "1  2022-08-25   81.10\n",
       "2  2022-08-26   80.38\n",
       "3  2022-08-29   81.34\n",
       "4  2022-08-30   80.54\n",
       "5  2022-08-31   80.62\n",
       "6  2022-09-01   79.54\n",
       "7  2022-09-02   79.46\n",
       "8  2022-09-06   81.02\n",
       "9  2022-09-07   80.98\n",
       "10 2022-09-08   80.80\n",
       "11 2022-09-09   81.44\n",
       "12 2022-09-12   81.48\n",
       "13 2022-09-13   80.75\n",
       "14 2022-09-14   80.48\n",
       "15 2022-09-15   80.01\n",
       "16 2022-09-16   80.33"
      ]
     },
     "execution_count": 5,
     "metadata": {},
     "output_type": "execute_result"
    }
   ],
   "source": [
    "import pandas as pd\n",
    "import numpy as np\n",
    "from datetime import datetime, timedelta\n",
    "\n",
    "fechas = pd.to_datetime([\n",
    "    \"2022-08-24\", \"2022-08-25\", \"2022-08-26\", \"2022-08-29\", \"2022-08-30\", \"2022-08-31\",\n",
    "    \"2022-09-01\", \"2022-09-02\", \"2022-09-06\", \"2022-09-07\", \"2022-09-08\", \"2022-09-09\",\n",
    "    \"2022-09-12\", \"2022-09-13\", \"2022-09-14\", \"2022-09-15\", \"2022-09-16\"\n",
    "])\n",
    "\n",
    "precios = [81.32, 81.10, 80.38, 81.34, 80.54, 80.62, 79.54, 79.46, 81.02, 80.98, 80.80, 81.44, 81.48, 80.75, 80.48, 80.01, 80.33]\n",
    "\n",
    "acciones = pd.DataFrame(data={'Dia': fechas, 'Precio': precios})\n",
    "\n",
    "acciones\n"
   ]
  },
  {
   "cell_type": "code",
   "execution_count": 6,
   "metadata": {},
   "outputs": [
    {
     "data": {
      "text/plain": [
       "(          Dia  Precio  Promedio Móvil 3 Días  Suavizado Exponencial\n",
       " 0  2022-08-24   81.32                    NaN              81.320000\n",
       " 1  2022-08-25   81.10                    NaN              81.188000\n",
       " 2  2022-08-26   80.38              80.933333              80.703200\n",
       " 3  2022-08-29   81.34              80.940000              81.085280\n",
       " 4  2022-08-30   80.54              80.753333              80.758112\n",
       " 5  2022-08-31   80.62              80.833333              80.675245\n",
       " 6  2022-09-01   79.54              80.233333              79.994098\n",
       " 7  2022-09-02   79.46              79.873333              79.673639\n",
       " 8  2022-09-06   81.02              80.006667              80.481456\n",
       " 9  2022-09-07   80.98              80.486667              80.780582\n",
       " 10 2022-09-08   80.80              80.933333              80.792233\n",
       " 11 2022-09-09   81.44              81.073333              81.180893\n",
       " 12 2022-09-12   81.48              81.240000              81.360357\n",
       " 13 2022-09-13   80.75              81.223333              80.994143\n",
       " 14 2022-09-14   80.48              80.903333              80.685657\n",
       " 15 2022-09-15   80.01              80.413333              80.280263\n",
       " 16 2022-09-16   80.33              80.273333              80.310105,\n",
       " 80.27333333333334,\n",
       " 80.31010514598606)"
      ]
     },
     "execution_count": 6,
     "metadata": {},
     "output_type": "execute_result"
    }
   ],
   "source": [
    "acciones['Promedio Móvil 3 Días'] = acciones['Precio'].rolling(window=3).mean()\n",
    "pronostico_pm = acciones['Promedio Móvil 3 Días'].iloc[-1]\n",
    "\n",
    "alpha = 0.6\n",
    "acciones['Suavizado Exponencial'] = acciones['Precio'].ewm(alpha=alpha, adjust=False).mean()\n",
    "pronostico_se = acciones['Suavizado Exponencial'].iloc[-1]\n",
    "\n",
    "acciones, pronostico_pm, pronostico_se\n"
   ]
  },
  {
   "cell_type": "markdown",
   "metadata": {},
   "source": [
    "a) Promedio Móvil de Tres Días:\n",
    "\n",
    "La serie de tiempo suavizada y los promedios móviles de tres días se han agregado a la tabla original en la columna \"Promedio Móvil 3 Días\".\n",
    "El pronóstico para el precio de cierre del 19 de septiembre, utilizando el último promedio móvil calculado, es de aproximadamente 80.27.\n",
    "\n",
    "b) Suavizamiento Exponencial con α=0.6:\n",
    "\n",
    "La serie de tiempo suavizada se ha agregado a la tabla original en la columna \"Suavizado Exponencial\".\n",
    "El pronóstico para el precio de cierre del 19 de septiembre, utilizando el último valor suavizado, es de aproximadamente 80.31.\n",
    "\n",
    "c) Comparación y Preferencia:\n",
    "\n",
    "- Ambos métodos han proporcionado pronósticos similares para el precio de cierre del 19 de septiembre, pero hay diferencias en cómo suavizan la serie de tiempo.\n",
    "- El promedio móvil da igual peso a los últimos tres días, mientras que el suavizamiento exponencial da más peso a las observaciones más recientes.\n",
    "- La elección entre estos dos métodos podría depender del contexto específico y de cuánto valor se le dé a los datos más recientes en comparación con los datos más antiguos.\n",
    "- Si se cree que los cambios recientes en el precio son más indicativos de futuros precios, se podría preferir el suavizamiento exponencial. Si se quiere dar igual importancia a los últimos tres días, se podría preferir el promedio móvil."
   ]
  }
 ],
 "metadata": {
  "kernelspec": {
   "display_name": "Python 3 (ipykernel)",
   "language": "python",
   "name": "python3"
  },
  "language_info": {
   "codemirror_mode": {
    "name": "ipython",
    "version": 3
   },
   "file_extension": ".py",
   "mimetype": "text/x-python",
   "name": "python",
   "nbconvert_exporter": "python",
   "pygments_lexer": "ipython3",
   "version": "3.10.9"
  }
 },
 "nbformat": 4,
 "nbformat_minor": 2
}
